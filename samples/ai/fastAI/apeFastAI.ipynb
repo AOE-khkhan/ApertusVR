{
 "cells": [
  {
   "cell_type": "code",
   "execution_count": 1,
   "metadata": {
    "colab": {},
    "colab_type": "code",
    "id": "NYfI6CefdtLn"
   },
   "outputs": [],
   "source": [
    "%reload_ext autoreload\n",
    "%autoreload 2\n",
    "%matplotlib inline"
   ]
  },
  {
   "cell_type": "code",
   "execution_count": 2,
   "metadata": {
    "colab": {
     "base_uri": "https://localhost:8080/",
     "height": 391
    },
    "colab_type": "code",
    "executionInfo": {
     "elapsed": 13295,
     "status": "ok",
     "timestamp": 1565252237728,
     "user": {
      "displayName": "Erik Tóth",
      "photoUrl": "https://lh3.googleusercontent.com/-iIbGul8Vzgo/AAAAAAAAAAI/AAAAAAAAAPc/V0rnuVOJ1pQ/s64/photo.jpg",
      "userId": "16173978344705293093"
     },
     "user_tz": -120
    },
    "id": "jVn9V0ClDRPf",
    "outputId": "18fee796-af5f-4696-a237-e070fc2ac587",
    "scrolled": true
   },
   "outputs": [],
   "source": [
    "#!pip install pretrainedmodels\n",
    "import sys\n",
    "import requests\n",
    "import fastai\n",
    "import json\n",
    "import PIL\n",
    "from fastai import *\n",
    "from fastai.vision import *\n",
    "from fastai.metrics import error_rate\n",
    "from fastai.vision.transform import *\n",
    "import pretrainedmodels\n",
    "import time\n",
    "import math\n",
    "#from fastai_tensorboard_callback import *\n"
   ]
  },
  {
   "cell_type": "code",
   "execution_count": 3,
   "metadata": {
    "colab": {},
    "colab_type": "code",
    "id": "F8C7AWyRHQFa"
   },
   "outputs": [],
   "source": [
    "np.random.seed(2)\n",
    "data = ImageDataBunch.from_folder('cat_dog/', train='train', valid='test',\n",
    "\t\t\t\t\t\t\t\t\tds_tfms=get_transforms(flip_vert=True), \n",
    "\t\t\t\t\t\t\t\t\tsize=28,num_workers=0, bs=512).normalize(imagenet_stats)\n",
    "\n",
    "#model_cadene = pretrainedmodels.__dict__[model_name](num_classes=1000, pretrained='imagenet')"
   ]
  },
  {
   "cell_type": "code",
   "execution_count": 4,
   "metadata": {},
   "outputs": [],
   "source": [
    "API_ENDPOINT = \"'http:/localhost'\"\n",
    "API_KEY = \"XXXXXXXXXXXXXXXXX\"\n",
    "file_paths =  { \"classes\": 2, \"IDs\" : []}\n",
    "leng = len('cat_dog\\test\\\\dog')\n",
    "for i in data.valid_ds.items:\n",
    "    file_paths[\"IDs\"].append(str(i)[(leng+2):])\n",
    "    #if str(i).find(\"Not\")>0:\n",
    "    #file_paths[\"IDs\"].append(str(i)[(leng+2):])\n",
    "    #else:\n",
    "    #file_paths[\"IDs\"].append(str(i)[(leng-1):])\n",
    "PI = math.pi\n",
    "PI_2 = PI / 2\n"
   ]
  },
  {
   "cell_type": "code",
   "execution_count": 5,
   "metadata": {},
   "outputs": [],
   "source": [
    "file_paths2 =  { \"classes\": 2, \"IDs\" : file_paths[\"IDs\"]}\n",
    "try:\n",
    "    r = requests.post(url = 'http://10.1.2.182:3000/api/v1/setfastai', json = file_paths2,timeout=0.5) \n",
    "    print(r.text)\n",
    "    r.status_code\n",
    "except:\n",
    "    pass"
   ]
  },
  {
   "cell_type": "code",
   "execution_count": 6,
   "metadata": {
    "colab": {
     "base_uri": "https://localhost:8080/",
     "height": 51
    },
    "colab_type": "code",
    "id": "iMFToh_xzOLF",
    "outputId": "835d7b3d-b816-41e8-f9e6-b1f5df5b3d76"
   },
   "outputs": [],
   "source": [
    "allow_growth = True\n",
    "def get_cadene_model(pretrained=True, model_name='se_resnet50'):\n",
    "  if pretrained:\n",
    "    arch = pretrainedmodels.__dict__[model_name](num_classes=1000, pretrained='imagenet')\n",
    "  else:\n",
    "    arch = pretrainedmodels.__dict__[model_name](num_classes=1000, pretrained=None)\n",
    "  custom_head3 = nn.Sequential(AdaptiveConcatPool2d(), Flatten(), nn.BatchNorm1d(4096), \n",
    "                            nn.Linear(in_features=4096, out_features=512), nn.ReLU(),\n",
    "                            nn.BatchNorm1d(512), nn.Linear(in_features=512, out_features=2),\n",
    "                            nn.LogSoftmax())\n",
    "  arch_2 = nn.Sequential(*list(children(arch))[:-2], custom_head3)\n",
    "  return arch_2\n",
    "learn3_cadene = cnn_learner(data, partial(get_cadene_model,model_name='se_resnext101_32x4d'),metrics=[accuracy, error_rate], cut=-2)\n"
   ]
  },
  {
   "cell_type": "code",
   "execution_count": 12,
   "metadata": {
    "colab": {},
    "colab_type": "code",
    "id": "UOFz8GHVeKPm",
    "scrolled": true
   },
   "outputs": [
    {
     "data": {
      "text/html": [],
      "text/plain": [
       "<IPython.core.display.HTML object>"
      ]
     },
     "metadata": {},
     "output_type": "display_data"
    },
    {
     "name": "stdout",
     "output_type": "stream",
     "text": [
      "LR Finder is complete, type {learner_name}.recorder.plot() to see the graph.\n"
     ]
    },
    {
     "data": {
      "image/png": "[encoded data removed]",
      "text/plain": [
       "<Figure size 432x288 with 1 Axes>"
      ]
     },
     "metadata": {
      "needs_background": "light"
     },
     "output_type": "display_data"
    }
   ],
   "source": [
    "learn3_cadene = learn3_cadene.load('/cat_dog')\n",
    "learn3_cadene.lr_find()\n",
    "learn3_cadene.recorder.plot()"
   ]
  },
  {
   "cell_type": "code",
   "execution_count": 13,
   "metadata": {
    "colab": {},
    "colab_type": "code",
    "id": "MA4usuPleBiF",
    "scrolled": false
   },
   "outputs": [
    {
     "data": {
      "text/html": [
       "<table border=\"1\" class=\"dataframe\">\n",
       "  <thead>\n",
       "    <tr style=\"text-align: left;\">\n",
       "      <th>epoch</th>\n",
       "      <th>train_loss</th>\n",
       "      <th>valid_loss</th>\n",
       "      <th>accuracy</th>\n",
       "      <th>error_rate</th>\n",
       "      <th>time</th>\n",
       "    </tr>\n",
       "  </thead>\n",
       "  <tbody>\n",
       "    <tr>\n",
       "      <td>0</td>\n",
       "      <td>0.685019</td>\n",
       "      <td>0.571620</td>\n",
       "      <td>0.750000</td>\n",
       "      <td>0.250000</td>\n",
       "      <td>00:45</td>\n",
       "    </tr>\n",
       "  </tbody>\n",
       "</table>"
      ],
      "text/plain": [
       "<IPython.core.display.HTML object>"
      ]
     },
     "metadata": {},
     "output_type": "display_data"
    },
    {
     "name": "stdout",
     "output_type": "stream",
     "text": [
      "Better model found at epoch 0 with accuracy value: 0.75.\n"
     ]
    },
    {
     "data": {
      "text/html": [],
      "text/plain": [
       "<IPython.core.display.HTML object>"
      ]
     },
     "metadata": {},
     "output_type": "display_data"
    },
    {
     "data": {
      "text/html": [
       "<table border=\"1\" class=\"dataframe\">\n",
       "  <thead>\n",
       "    <tr style=\"text-align: left;\">\n",
       "      <th>epoch</th>\n",
       "      <th>train_loss</th>\n",
       "      <th>valid_loss</th>\n",
       "      <th>accuracy</th>\n",
       "      <th>error_rate</th>\n",
       "      <th>time</th>\n",
       "    </tr>\n",
       "  </thead>\n",
       "  <tbody>\n",
       "    <tr>\n",
       "      <td>0</td>\n",
       "      <td>0.742321</td>\n",
       "      <td>0.564204</td>\n",
       "      <td>0.730000</td>\n",
       "      <td>0.270000</td>\n",
       "      <td>00:45</td>\n",
       "    </tr>\n",
       "  </tbody>\n",
       "</table>"
      ],
      "text/plain": [
       "<IPython.core.display.HTML object>"
      ]
     },
     "metadata": {},
     "output_type": "display_data"
    },
    {
     "name": "stdout",
     "output_type": "stream",
     "text": [
      "Better model found at epoch 0 with accuracy value: 0.7300000190734863.\n"
     ]
    },
    {
     "data": {
      "text/html": [],
      "text/plain": [
       "<IPython.core.display.HTML object>"
      ]
     },
     "metadata": {},
     "output_type": "display_data"
    },
    {
     "data": {
      "text/html": [
       "<table border=\"1\" class=\"dataframe\">\n",
       "  <thead>\n",
       "    <tr style=\"text-align: left;\">\n",
       "      <th>epoch</th>\n",
       "      <th>train_loss</th>\n",
       "      <th>valid_loss</th>\n",
       "      <th>accuracy</th>\n",
       "      <th>error_rate</th>\n",
       "      <th>time</th>\n",
       "    </tr>\n",
       "  </thead>\n",
       "  <tbody>\n",
       "    <tr>\n",
       "      <td>0</td>\n",
       "      <td>0.709592</td>\n",
       "      <td>0.558745</td>\n",
       "      <td>0.750000</td>\n",
       "      <td>0.250000</td>\n",
       "      <td>00:45</td>\n",
       "    </tr>\n",
       "  </tbody>\n",
       "</table>"
      ],
      "text/plain": [
       "<IPython.core.display.HTML object>"
      ]
     },
     "metadata": {},
     "output_type": "display_data"
    },
    {
     "name": "stdout",
     "output_type": "stream",
     "text": [
      "Better model found at epoch 0 with accuracy value: 0.75.\n"
     ]
    },
    {
     "data": {
      "text/html": [],
      "text/plain": [
       "<IPython.core.display.HTML object>"
      ]
     },
     "metadata": {},
     "output_type": "display_data"
    },
    {
     "data": {
      "text/html": [
       "<table border=\"1\" class=\"dataframe\">\n",
       "  <thead>\n",
       "    <tr style=\"text-align: left;\">\n",
       "      <th>epoch</th>\n",
       "      <th>train_loss</th>\n",
       "      <th>valid_loss</th>\n",
       "      <th>accuracy</th>\n",
       "      <th>error_rate</th>\n",
       "      <th>time</th>\n",
       "    </tr>\n",
       "  </thead>\n",
       "  <tbody>\n",
       "    <tr>\n",
       "      <td>0</td>\n",
       "      <td>0.737229</td>\n",
       "      <td>0.552066</td>\n",
       "      <td>0.720000</td>\n",
       "      <td>0.280000</td>\n",
       "      <td>00:45</td>\n",
       "    </tr>\n",
       "  </tbody>\n",
       "</table>"
      ],
      "text/plain": [
       "<IPython.core.display.HTML object>"
      ]
     },
     "metadata": {},
     "output_type": "display_data"
    },
    {
     "name": "stdout",
     "output_type": "stream",
     "text": [
      "Better model found at epoch 0 with accuracy value: 0.7200000286102295.\n"
     ]
    },
    {
     "data": {
      "text/html": [],
      "text/plain": [
       "<IPython.core.display.HTML object>"
      ]
     },
     "metadata": {},
     "output_type": "display_data"
    },
    {
     "data": {
      "text/html": [
       "<table border=\"1\" class=\"dataframe\">\n",
       "  <thead>\n",
       "    <tr style=\"text-align: left;\">\n",
       "      <th>epoch</th>\n",
       "      <th>train_loss</th>\n",
       "      <th>valid_loss</th>\n",
       "      <th>accuracy</th>\n",
       "      <th>error_rate</th>\n",
       "      <th>time</th>\n",
       "    </tr>\n",
       "  </thead>\n",
       "  <tbody>\n",
       "    <tr>\n",
       "      <td>0</td>\n",
       "      <td>0.696604</td>\n",
       "      <td>0.547582</td>\n",
       "      <td>0.750000</td>\n",
       "      <td>0.250000</td>\n",
       "      <td>00:45</td>\n",
       "    </tr>\n",
       "  </tbody>\n",
       "</table>"
      ],
      "text/plain": [
       "<IPython.core.display.HTML object>"
      ]
     },
     "metadata": {},
     "output_type": "display_data"
    },
    {
     "name": "stdout",
     "output_type": "stream",
     "text": [
      "Better model found at epoch 0 with accuracy value: 0.75.\n"
     ]
    },
    {
     "data": {
      "text/html": [],
      "text/plain": [
       "<IPython.core.display.HTML object>"
      ]
     },
     "metadata": {},
     "output_type": "display_data"
    },
    {
     "data": {
      "text/html": [
       "<table border=\"1\" class=\"dataframe\">\n",
       "  <thead>\n",
       "    <tr style=\"text-align: left;\">\n",
       "      <th>epoch</th>\n",
       "      <th>train_loss</th>\n",
       "      <th>valid_loss</th>\n",
       "      <th>accuracy</th>\n",
       "      <th>error_rate</th>\n",
       "      <th>time</th>\n",
       "    </tr>\n",
       "  </thead>\n",
       "  <tbody>\n",
       "    <tr>\n",
       "      <td>0</td>\n",
       "      <td>0.690014</td>\n",
       "      <td>0.551443</td>\n",
       "      <td>0.740000</td>\n",
       "      <td>0.260000</td>\n",
       "      <td>00:45</td>\n",
       "    </tr>\n",
       "  </tbody>\n",
       "</table>"
      ],
      "text/plain": [
       "<IPython.core.display.HTML object>"
      ]
     },
     "metadata": {},
     "output_type": "display_data"
    },
    {
     "name": "stdout",
     "output_type": "stream",
     "text": [
      "Better model found at epoch 0 with accuracy value: 0.7400000095367432.\n"
     ]
    },
    {
     "data": {
      "text/html": [],
      "text/plain": [
       "<IPython.core.display.HTML object>"
      ]
     },
     "metadata": {},
     "output_type": "display_data"
    },
    {
     "data": {
      "text/html": [
       "<table border=\"1\" class=\"dataframe\">\n",
       "  <thead>\n",
       "    <tr style=\"text-align: left;\">\n",
       "      <th>epoch</th>\n",
       "      <th>train_loss</th>\n",
       "      <th>valid_loss</th>\n",
       "      <th>accuracy</th>\n",
       "      <th>error_rate</th>\n",
       "      <th>time</th>\n",
       "    </tr>\n",
       "  </thead>\n",
       "  <tbody>\n",
       "    <tr>\n",
       "      <td>0</td>\n",
       "      <td>0.630281</td>\n",
       "      <td>0.558975</td>\n",
       "      <td>0.750000</td>\n",
       "      <td>0.250000</td>\n",
       "      <td>00:45</td>\n",
       "    </tr>\n",
       "  </tbody>\n",
       "</table>"
      ],
      "text/plain": [
       "<IPython.core.display.HTML object>"
      ]
     },
     "metadata": {},
     "output_type": "display_data"
    },
    {
     "name": "stdout",
     "output_type": "stream",
     "text": [
      "Better model found at epoch 0 with accuracy value: 0.75.\n"
     ]
    },
    {
     "data": {
      "text/html": [],
      "text/plain": [
       "<IPython.core.display.HTML object>"
      ]
     },
     "metadata": {},
     "output_type": "display_data"
    },
    {
     "data": {
      "text/html": [
       "<table border=\"1\" class=\"dataframe\">\n",
       "  <thead>\n",
       "    <tr style=\"text-align: left;\">\n",
       "      <th>epoch</th>\n",
       "      <th>train_loss</th>\n",
       "      <th>valid_loss</th>\n",
       "      <th>accuracy</th>\n",
       "      <th>error_rate</th>\n",
       "      <th>time</th>\n",
       "    </tr>\n",
       "  </thead>\n",
       "  <tbody>\n",
       "    <tr>\n",
       "      <td>0</td>\n",
       "      <td>0.696316</td>\n",
       "      <td>0.569124</td>\n",
       "      <td>0.750000</td>\n",
       "      <td>0.250000</td>\n",
       "      <td>00:45</td>\n",
       "    </tr>\n",
       "  </tbody>\n",
       "</table>"
      ],
      "text/plain": [
       "<IPython.core.display.HTML object>"
      ]
     },
     "metadata": {},
     "output_type": "display_data"
    },
    {
     "name": "stdout",
     "output_type": "stream",
     "text": [
      "Better model found at epoch 0 with accuracy value: 0.75.\n"
     ]
    },
    {
     "data": {
      "text/html": [],
      "text/plain": [
       "<IPython.core.display.HTML object>"
      ]
     },
     "metadata": {},
     "output_type": "display_data"
    },
    {
     "data": {
      "text/html": [
       "<table border=\"1\" class=\"dataframe\">\n",
       "  <thead>\n",
       "    <tr style=\"text-align: left;\">\n",
       "      <th>epoch</th>\n",
       "      <th>train_loss</th>\n",
       "      <th>valid_loss</th>\n",
       "      <th>accuracy</th>\n",
       "      <th>error_rate</th>\n",
       "      <th>time</th>\n",
       "    </tr>\n",
       "  </thead>\n",
       "  <tbody>\n",
       "    <tr>\n",
       "      <td>0</td>\n",
       "      <td>0.728477</td>\n",
       "      <td>0.576799</td>\n",
       "      <td>0.730000</td>\n",
       "      <td>0.270000</td>\n",
       "      <td>00:45</td>\n",
       "    </tr>\n",
       "  </tbody>\n",
       "</table>"
      ],
      "text/plain": [
       "<IPython.core.display.HTML object>"
      ]
     },
     "metadata": {},
     "output_type": "display_data"
    },
    {
     "name": "stdout",
     "output_type": "stream",
     "text": [
      "Better model found at epoch 0 with accuracy value: 0.7300000190734863.\n"
     ]
    },
    {
     "data": {
      "text/html": [],
      "text/plain": [
       "<IPython.core.display.HTML object>"
      ]
     },
     "metadata": {},
     "output_type": "display_data"
    },
    {
     "data": {
      "text/html": [
       "<table border=\"1\" class=\"dataframe\">\n",
       "  <thead>\n",
       "    <tr style=\"text-align: left;\">\n",
       "      <th>epoch</th>\n",
       "      <th>train_loss</th>\n",
       "      <th>valid_loss</th>\n",
       "      <th>accuracy</th>\n",
       "      <th>error_rate</th>\n",
       "      <th>time</th>\n",
       "    </tr>\n",
       "  </thead>\n",
       "  <tbody>\n",
       "    <tr>\n",
       "      <td>0</td>\n",
       "      <td>0.676334</td>\n",
       "      <td>0.585044</td>\n",
       "      <td>0.710000</td>\n",
       "      <td>0.290000</td>\n",
       "      <td>00:45</td>\n",
       "    </tr>\n",
       "  </tbody>\n",
       "</table>"
      ],
      "text/plain": [
       "<IPython.core.display.HTML object>"
      ]
     },
     "metadata": {},
     "output_type": "display_data"
    },
    {
     "name": "stdout",
     "output_type": "stream",
     "text": [
      "Better model found at epoch 0 with accuracy value: 0.7099999785423279.\n"
     ]
    },
    {
     "data": {
      "text/html": [],
      "text/plain": [
       "<IPython.core.display.HTML object>"
      ]
     },
     "metadata": {},
     "output_type": "display_data"
    }
   ],
   "source": [
    "#learn3_cadene = learn3_cadene.load('fastai_weights/2fastai_112_black_fine_best')\n",
    "learn3_cadene = cnn_learner(data, partial(get_cadene_model,model_name='se_resnext101_32x4d'),metrics=[accuracy, error_rate], cut=-2)\n",
    "for i in range(10):\n",
    "  if i >= 0 :\n",
    "      learn3_cadene = learn3_cadene.load('/cat_dog')\n",
    "  learn3_cadene.fit_one_cycle(1,1e-3,callbacks=[callbacks.SaveModelCallback(learn3_cadene, every='improvement', monitor='accuracy', name='/cat_dog')])\n",
    "  #time.sleep(10)\n",
    "  #learn3_cadene.save(\"/content/drive/My Drive/fastai_448_black{}\".format(i))\n",
    "  json_preds = { \"x\" : [], \"y\" : [], \"z\": []}\n",
    "  preds,y,losses = learn3_cadene.get_preds(with_loss=True)  \n",
    "  interp = ClassificationInterpretation(learn3_cadene,preds,y,losses)\n",
    "  \n",
    "  preds = preds.tolist()\n",
    "  losses = losses.tolist()\n",
    "  #print(y)\n",
    "  #print(preds)\n",
    "  maxloss = max(losses)\n",
    "  k = 0;\n",
    "  for pred in preds:\n",
    "      if(pred[1] > pred[0]):\n",
    "        phi = pred[1]*PI\n",
    "        theta = (losses[k]/maxloss)*PI\n",
    "        json_preds[\"x\"].append(math.sin(phi)*math.cos(theta))\n",
    "        json_preds[\"y\"].append(math.sin(phi)*math.sin(theta))\n",
    "        json_preds[\"z\"].append(math.cos(phi))\n",
    "      else:\n",
    "        phi = pred[0]*PI-PI\n",
    "        theta= (losses[k]/maxloss)*PI-PI\n",
    "        json_preds[\"x\"].append(math.sin(phi)*math.cos(theta))\n",
    "        json_preds[\"y\"].append(math.sin(phi)*math.sin(theta))\n",
    "        json_preds[\"z\"].append(math.cos(phi))\n",
    "      k = k+1\n",
    "  #print(json_preds)\n",
    "  #sending = json.dumps(json_preds)\n",
    "  try:\n",
    "    r = requests.post(url = 'http://10.1.2.182:3000/api/v1/setfastai', json = json_preds,timeout=0.5) \n",
    "    print(r.text)\n",
    "  except:\n",
    "    pass"
   ]
  },
  {
   "cell_type": "code",
   "execution_count": 51,
   "metadata": {
    "scrolled": true
   },
   "outputs": [
    {
     "name": "stdout",
     "output_type": "stream",
     "text": [
      "tensor([0, 0, 0, 0, 0, 0, 0, 0, 0, 0, 0, 0, 0, 0, 0, 0, 0, 0, 0, 0, 0, 0, 0, 0,\n",
      "        0, 0, 0, 0, 0, 0, 0, 0, 0, 0, 0, 0, 0, 0, 0, 0, 0, 0, 0, 0, 0, 0, 0, 0,\n",
      "        0, 0, 1, 1, 1, 1, 1, 1, 1, 1, 1, 1, 1, 1, 1, 1, 1, 1, 1, 1, 1, 1, 1, 1,\n",
      "        1, 1, 1, 1, 1, 1, 1, 1, 1, 1, 1, 1, 1, 1, 1, 1, 1, 1, 1, 1, 1, 1, 1, 1,\n",
      "        1, 1, 1, 1])\n",
      "[[0.9851411581039429, 0.014858782291412354], [0.9689481854438782, 0.03105177730321884], [0.9868242144584656, 0.013175755739212036], [0.8426820039749146, 0.15731801092624664], [0.17272822558879852, 0.8272718191146851], [0.9955529570579529, 0.004447019658982754], [0.9993618130683899, 0.0006382318097166717], [0.9976330995559692, 0.002366913016885519], [0.9998767375946045, 0.00012322019028943032], [0.43352729082107544, 0.5664727091789246], [0.9994515776634216, 0.0005484065623022616], [0.9992801547050476, 0.0007198330713436007], [0.9955670237541199, 0.004432940389961004], [0.8856455683708191, 0.11435441672801971], [0.5556303262710571, 0.44436967372894287], [0.5490472316741943, 0.45095282793045044], [0.0319698229432106, 0.9680302143096924], [0.06590493768453598, 0.9340950846672058], [0.9992995262145996, 0.0007004517246969044], [0.9793688058853149, 0.020631199702620506], [0.39443832635879517, 0.6055617332458496], [0.9387136697769165, 0.0612863190472126], [0.9336912631988525, 0.06630878895521164], [0.9762125611305237, 0.02378743514418602], [0.8939613699913025, 0.1060386598110199], [0.9157627820968628, 0.08423721045255661], [0.010875564999878407, 0.9891244173049927], [0.02841464802622795, 0.9715853929519653], [0.9920281767845154, 0.007971884682774544], [0.001302855322137475, 0.9986972212791443], [0.802507758140564, 0.19749219715595245], [0.999994158744812, 5.783893357147463e-06], [0.09339088201522827, 0.9066091775894165], [0.9996471405029297, 0.00035282401950098574], [0.8869972825050354, 0.11300274729728699], [0.995179295539856, 0.004820766858756542], [0.4986611604690552, 0.5013388395309448], [0.8287972211837769, 0.17120283842086792], [0.20536358654499054, 0.7946364283561707], [0.9351937174797058, 0.0648062527179718], [0.9877881407737732, 0.012211835943162441], [0.8799750208854675, 0.12002502381801605], [0.06908323615789413, 0.9309167265892029], [0.01987466961145401, 0.9801252484321594], [0.9866371154785156, 0.013362878933548927], [0.9884670972824097, 0.011532943695783615], [0.9999911785125732, 8.871007594279945e-06], [0.9273859262466431, 0.07261405885219574], [0.9913017153739929, 0.008698304183781147], [0.9999746084213257, 2.535323983465787e-05], [0.5521358251571655, 0.44786426424980164], [0.9256204962730408, 0.07437951862812042], [0.9899495840072632, 0.010050375945866108], [0.9889657497406006, 0.0110342251136899], [0.9918813109397888, 0.00811865832656622], [0.5897417664527893, 0.4102582633495331], [0.8774492740631104, 0.12255071103572845], [0.9172486066818237, 0.08275136351585388], [0.9594593644142151, 0.04054059833288193], [0.07087555527687073, 0.9291244149208069], [0.9530773162841797, 0.04692269116640091], [0.8599048256874084, 0.14009515941143036], [0.9181283116340637, 0.08187171071767807], [0.9798243045806885, 0.020175715908408165], [0.998681366443634, 0.0013185630086809397], [0.16140596568584442, 0.8385940194129944], [0.9437413215637207, 0.056258682161569595], [0.91423100233078, 0.08576902747154236], [0.9941442608833313, 0.005855714902281761], [0.9993481040000916, 0.0006518823211081326], [0.9998431205749512, 0.00015680849901400506], [0.9846177101135254, 0.01538236252963543], [0.9998795986175537, 0.00012038762361044064], [0.9965000152587891, 0.0034999807830899954], [0.9819613099098206, 0.01803862862288952], [0.026153840124607086, 0.9738461971282959], [0.2552683353424072, 0.7447316646575928], [0.22127369046211243, 0.7787262797355652], [0.061810653656721115, 0.9381893277168274], [0.13850434124469757, 0.8614956736564636], [0.8078531622886658, 0.1921469271183014], [0.7660036087036133, 0.2339964509010315], [0.21657563745975494, 0.7834243774414062], [0.9096055626869202, 0.09039442986249924], [0.4684655964374542, 0.5315343141555786], [0.9542890191078186, 0.04571099951863289], [0.7778259515762329, 0.2221740335226059], [0.9868822693824768, 0.01311768963932991], [0.9988449811935425, 0.0011550241615623236], [0.9451888799667358, 0.054811131209135056], [0.7098984718322754, 0.2901015877723694], [0.09269144386053085, 0.9073085188865662], [0.9288878440856934, 0.07111213356256485], [0.509925365447998, 0.49007460474967957], [0.03065856173634529, 0.9693413972854614], [0.9684245586395264, 0.03157537430524826], [0.9607719779014587, 0.03922798112034798], [0.9976441264152527, 0.0023558191023766994], [0.9947592616081238, 0.005240705329924822], [0.9527891278266907, 0.04721086472272873]]\n"
     ]
    }
   ],
   "source": [
    "  learn3_cadene = learn3_cadene.load('fastai_weights/fastai_896_black_87_97')\n",
    "  json_preds = { \"x\" : [], \"y\" : [], \"z\": []}\n",
    "  preds,y,losses = learn3_cadene.get_preds(with_loss=True)  \n",
    "  interp = ClassificationInterpretation(learn3_cadene,preds,y,losses)\n",
    "  \n",
    "  preds = preds.tolist()\n",
    "  losses = losses.tolist()\n",
    "  print(y)\n",
    "  maxloss = max(losses)\n",
    "  k = 0;\n",
    "  for pred in preds:\n",
    "      if(pred[1] > pred[0]):\n",
    "        phi = pred[1]*PI\n",
    "        theta = (losses[k]/maxloss)*PI\n",
    "        json_preds[\"x\"].append(math.sin(phi)*math.cos(theta))\n",
    "        json_preds[\"y\"].append(math.sin(phi)*math.sin(theta))\n",
    "        json_preds[\"z\"].append(math.cos(phi))\n",
    "      else:\n",
    "        phi = pred[0]*PI-PI\n",
    "        theta= (losses[k]/maxloss)*PI-PI\n",
    "        json_preds[\"x\"].append(math.sin(phi)*math.cos(theta))\n",
    "        json_preds[\"y\"].append(math.sin(phi)*math.sin(theta))\n",
    "        json_preds[\"z\"].append(math.cos(phi))\n",
    "      k = k+1\n",
    "  #print(json_preds)\n",
    "  #sending = json.dumps(json_preds)\n",
    "  try:\n",
    "    r = requests.post(url = 'http://10.1.2.182:3000/api/v1/setfastai', json = json_preds,timeout=0.5) \n",
    "  except:\n",
    "    pass"
   ]
  },
  {
   "cell_type": "code",
   "execution_count": null,
   "metadata": {},
   "outputs": [],
   "source": []
  },
  {
   "cell_type": "code",
   "execution_count": null,
   "metadata": {
    "scrolled": true
   },
   "outputs": [],
   "source": []
  },
  {
   "cell_type": "code",
   "execution_count": 9,
   "metadata": {},
   "outputs": [],
   "source": [
    "json_preds2 ={ \"x\" : json_preds[\"x\"], \"y\" : json_preds[\"y\"], \"z\": json_preds[\"z\"]}\n",
    "try:\n",
    "    r = requests.post(url = 'http://10.1.2.182:3000/api/v1/setfastai', json = json_preds2,timeout=0.5) \n",
    "except:\n",
    "    pass"
   ]
  },
  {
   "cell_type": "code",
   "execution_count": 10,
   "metadata": {
    "colab": {},
    "colab_type": "code",
    "id": "OEFhwN225AXq"
   },
   "outputs": [
    {
     "data": {
      "image/png": "[encoded data removed]",
      "text/plain": [
       "<Figure size 432x288 with 1 Axes>"
      ]
     },
     "metadata": {
      "needs_background": "light"
     },
     "output_type": "display_data"
    },
    {
     "data": {
      "image/png": "[encoded data removed]",
      "text/plain": [
       "<Figure size 432x576 with 2 Axes>"
      ]
     },
     "metadata": {
      "needs_background": "light"
     },
     "output_type": "display_data"
    }
   ],
   "source": [
    "learn3_cadene.recorder.plot_losses()\n",
    "learn3_cadene.recorder.plot_metrics()"
   ]
  },
  {
   "cell_type": "code",
   "execution_count": 8,
   "metadata": {
    "colab": {},
    "colab_type": "code",
    "id": "Bagyk4gz3x1X",
    "scrolled": true
   },
   "outputs": [
    {
     "data": {
      "text/html": [],
      "text/plain": [
       "<IPython.core.display.HTML object>"
      ]
     },
     "metadata": {},
     "output_type": "display_data"
    },
    {
     "name": "stdout",
     "output_type": "stream",
     "text": [
      "LR Finder is complete, type {learner_name}.recorder.plot() to see the graph.\n"
     ]
    },
    {
     "data": {
      "image/png": "[encoded data removed]",
      "text/plain": [
       "<Figure size 432x288 with 1 Axes>"
      ]
     },
     "metadata": {
      "needs_background": "light"
     },
     "output_type": "display_data"
    }
   ],
   "source": [
    "learn3_cadene = learn3_cadene.load('fastai_weights/fastai_448_black_best2')\n",
    "learn3_cadene.unfreeze()\n",
    "learn3_cadene.lr_find()\n",
    "learn3_cadene.recorder.plot()"
   ]
  },
  {
   "cell_type": "code",
   "execution_count": 15,
   "metadata": {
    "colab": {},
    "colab_type": "code",
    "id": "A1KBQ_Hi39g6",
    "scrolled": false
   },
   "outputs": [
    {
     "data": {
      "text/html": [
       "<table border=\"1\" class=\"dataframe\">\n",
       "  <thead>\n",
       "    <tr style=\"text-align: left;\">\n",
       "      <th>epoch</th>\n",
       "      <th>train_loss</th>\n",
       "      <th>valid_loss</th>\n",
       "      <th>accuracy</th>\n",
       "      <th>error_rate</th>\n",
       "      <th>time</th>\n",
       "    </tr>\n",
       "  </thead>\n",
       "  <tbody>\n",
       "    <tr>\n",
       "      <td>0</td>\n",
       "      <td>0.454159</td>\n",
       "      <td>0.458566</td>\n",
       "      <td>0.842857</td>\n",
       "      <td>0.157143</td>\n",
       "      <td>01:13</td>\n",
       "    </tr>\n",
       "    <tr>\n",
       "      <td>1</td>\n",
       "      <td>0.408500</td>\n",
       "      <td>0.455922</td>\n",
       "      <td>0.828571</td>\n",
       "      <td>0.171429</td>\n",
       "      <td>01:13</td>\n",
       "    </tr>\n",
       "    <tr>\n",
       "      <td>2</td>\n",
       "      <td>0.416909</td>\n",
       "      <td>0.505619</td>\n",
       "      <td>0.785714</td>\n",
       "      <td>0.214286</td>\n",
       "      <td>01:14</td>\n",
       "    </tr>\n",
       "    <tr>\n",
       "      <td>3</td>\n",
       "      <td>0.436179</td>\n",
       "      <td>0.470864</td>\n",
       "      <td>0.857143</td>\n",
       "      <td>0.142857</td>\n",
       "      <td>01:13</td>\n",
       "    </tr>\n",
       "    <tr>\n",
       "      <td>4</td>\n",
       "      <td>0.495796</td>\n",
       "      <td>0.523183</td>\n",
       "      <td>0.814286</td>\n",
       "      <td>0.185714</td>\n",
       "      <td>01:13</td>\n",
       "    </tr>\n",
       "    <tr>\n",
       "      <td>5</td>\n",
       "      <td>0.504873</td>\n",
       "      <td>0.456379</td>\n",
       "      <td>0.842857</td>\n",
       "      <td>0.157143</td>\n",
       "      <td>01:13</td>\n",
       "    </tr>\n",
       "    <tr>\n",
       "      <td>6</td>\n",
       "      <td>0.399123</td>\n",
       "      <td>0.494941</td>\n",
       "      <td>0.785714</td>\n",
       "      <td>0.214286</td>\n",
       "      <td>01:13</td>\n",
       "    </tr>\n",
       "    <tr>\n",
       "      <td>7</td>\n",
       "      <td>0.442701</td>\n",
       "      <td>0.506763</td>\n",
       "      <td>0.800000</td>\n",
       "      <td>0.200000</td>\n",
       "      <td>01:13</td>\n",
       "    </tr>\n",
       "    <tr>\n",
       "      <td>8</td>\n",
       "      <td>0.449346</td>\n",
       "      <td>0.441411</td>\n",
       "      <td>0.828571</td>\n",
       "      <td>0.171429</td>\n",
       "      <td>01:13</td>\n",
       "    </tr>\n",
       "    <tr>\n",
       "      <td>9</td>\n",
       "      <td>0.431998</td>\n",
       "      <td>0.502928</td>\n",
       "      <td>0.800000</td>\n",
       "      <td>0.200000</td>\n",
       "      <td>01:13</td>\n",
       "    </tr>\n",
       "    <tr>\n",
       "      <td>10</td>\n",
       "      <td>0.445473</td>\n",
       "      <td>0.482313</td>\n",
       "      <td>0.828571</td>\n",
       "      <td>0.171429</td>\n",
       "      <td>01:14</td>\n",
       "    </tr>\n",
       "    <tr>\n",
       "      <td>11</td>\n",
       "      <td>0.433553</td>\n",
       "      <td>0.502043</td>\n",
       "      <td>0.785714</td>\n",
       "      <td>0.214286</td>\n",
       "      <td>01:13</td>\n",
       "    </tr>\n",
       "    <tr>\n",
       "      <td>12</td>\n",
       "      <td>0.452801</td>\n",
       "      <td>0.452427</td>\n",
       "      <td>0.857143</td>\n",
       "      <td>0.142857</td>\n",
       "      <td>01:13</td>\n",
       "    </tr>\n",
       "    <tr>\n",
       "      <td>13</td>\n",
       "      <td>0.484904</td>\n",
       "      <td>0.490348</td>\n",
       "      <td>0.842857</td>\n",
       "      <td>0.157143</td>\n",
       "      <td>01:13</td>\n",
       "    </tr>\n",
       "    <tr>\n",
       "      <td>14</td>\n",
       "      <td>0.456857</td>\n",
       "      <td>0.446777</td>\n",
       "      <td>0.842857</td>\n",
       "      <td>0.157143</td>\n",
       "      <td>01:13</td>\n",
       "    </tr>\n",
       "    <tr>\n",
       "      <td>15</td>\n",
       "      <td>0.423900</td>\n",
       "      <td>0.476170</td>\n",
       "      <td>0.842857</td>\n",
       "      <td>0.157143</td>\n",
       "      <td>01:13</td>\n",
       "    </tr>\n",
       "    <tr>\n",
       "      <td>16</td>\n",
       "      <td>0.418030</td>\n",
       "      <td>0.488072</td>\n",
       "      <td>0.828571</td>\n",
       "      <td>0.171429</td>\n",
       "      <td>01:13</td>\n",
       "    </tr>\n",
       "    <tr>\n",
       "      <td>17</td>\n",
       "      <td>0.411332</td>\n",
       "      <td>0.434329</td>\n",
       "      <td>0.857143</td>\n",
       "      <td>0.142857</td>\n",
       "      <td>01:13</td>\n",
       "    </tr>\n",
       "    <tr>\n",
       "      <td>18</td>\n",
       "      <td>0.518688</td>\n",
       "      <td>0.458142</td>\n",
       "      <td>0.842857</td>\n",
       "      <td>0.157143</td>\n",
       "      <td>01:13</td>\n",
       "    </tr>\n",
       "    <tr>\n",
       "      <td>19</td>\n",
       "      <td>0.480696</td>\n",
       "      <td>0.450233</td>\n",
       "      <td>0.828571</td>\n",
       "      <td>0.171429</td>\n",
       "      <td>01:13</td>\n",
       "    </tr>\n",
       "  </tbody>\n",
       "</table>"
      ],
      "text/plain": [
       "<IPython.core.display.HTML object>"
      ]
     },
     "metadata": {},
     "output_type": "display_data"
    },
    {
     "name": "stdout",
     "output_type": "stream",
     "text": [
      "Better model found at epoch 0 with accuracy value: 0.8428571224212646.\n",
      "Better model found at epoch 3 with accuracy value: 0.8571428656578064.\n"
     ]
    }
   ],
   "source": [
    "learn3_cadene = learn3_cadene.load('fastai_weights/fastai_448_black_best2')\n",
    "learn3_cadene.fit_one_cycle(20,max_lr=slice(1e-9,1e-6),callbacks=[callbacks.SaveModelCallback(learn3_cadene, every='improvement', monitor='accuracy', name='fastai_weights/3fastai_448_black_fine_best')] )\n",
    "#learn3_cadene.save(\"fastai_weights/fastai_448_black_fine\")"
   ]
  },
  {
   "cell_type": "code",
   "execution_count": null,
   "metadata": {
    "colab": {},
    "colab_type": "code",
    "id": "MntGPhm04Y4P"
   },
   "outputs": [],
   "source": [
    "learn3_cadene.recorder.plot_losses()\n",
    "learn3_cadene.recorder.plot_metrics()"
   ]
  },
  {
   "cell_type": "code",
   "execution_count": 11,
   "metadata": {
    "colab": {},
    "colab_type": "code",
    "id": "u9DWZs-EtakQ"
   },
   "outputs": [
    {
     "data": {
      "text/html": [],
      "text/plain": [
       "<IPython.core.display.HTML object>"
      ]
     },
     "metadata": {},
     "output_type": "display_data"
    },
    {
     "data": {
      "image/png": "[encoded data removed]",
      "text/plain": [
       "<Figure size 432x288 with 1 Axes>"
      ]
     },
     "metadata": {
      "needs_background": "light"
     },
     "output_type": "display_data"
    }
   ],
   "source": [
    "learn3_cadene = learn3_cadene.load('/cat_dog')\n",
    "interp = ClassificationInterpretation.from_learner(learn3_cadene)\n",
    "interp.plot_confusion_matrix()\n",
    "#interp.plot_top_losses(59, figsize=(50,50), heatmap=False)"
   ]
  },
  {
   "cell_type": "code",
   "execution_count": 18,
   "metadata": {},
   "outputs": [
    {
     "data": {
      "text/plain": [
       "(Category polyp, tensor(1), tensor([0.2082, 0.7918]))"
      ]
     },
     "execution_count": 18,
     "metadata": {},
     "output_type": "execute_result"
    }
   ],
   "source": [
    "learn3_cadene = learn3_cadene.load('fastai_polyp/polyp_224_best0')\n",
    "img = open_image('polyp3.png').resize(112)\n",
    "learn3_cadene.predict(img)"
   ]
  }
 ],
 "metadata": {
  "accelerator": "GPU",
  "colab": {
   "collapsed_sections": [],
   "name": "fastai_polyp.ipynb",
   "provenance": [],
   "version": "0.3.2"
  },
  "kernelspec": {
   "display_name": "Python 3",
   "language": "python",
   "name": "python3"
  },
  "language_info": {
   "codemirror_mode": {
    "name": "ipython",
    "version": 3
   },
   "file_extension": ".py",
   "mimetype": "text/x-python",
   "name": "python",
   "nbconvert_exporter": "python",
   "pygments_lexer": "ipython3",
   "version": "3.6.2"
  }
 },
 "nbformat": 4,
 "nbformat_minor": 1
}
